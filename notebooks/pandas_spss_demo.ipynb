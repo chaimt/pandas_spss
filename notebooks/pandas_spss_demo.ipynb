{
 "cells": [
  {
   "cell_type": "code",
   "execution_count": 4,
   "metadata": {},
   "outputs": [
    {
     "name": "stdout",
     "output_type": "stream",
     "text": [
      "   id    name  age        salary   department  experience_years\n",
      "0   1  User_1   56  60475.984120           HR                 3\n",
      "1   2  User_2   69  47425.567472  Engineering                 0\n",
      "2   3  User_3   46  36392.201298  Engineering                13\n",
      "3   4  User_4   32  67829.385896           HR                15\n",
      "4   5  User_5   60  61782.981867    Marketing                19\n"
     ]
    }
   ],
   "source": [
    "# Import pandas\n",
    "import pandas as pd\n",
    "\n",
    "# Load Excel file\n",
    "# Replace 'data.xlsx' with your file path\n",
    "df = pd.read_csv(\"../employee_data.csv\")\n",
    "\n",
    "# Show the first 5 rows\n",
    "print(df.head())\n"
   ]
  }
 ],
 "metadata": {
  "kernelspec": {
   "display_name": ".venv",
   "language": "python",
   "name": "python3"
  },
  "language_info": {
   "codemirror_mode": {
    "name": "ipython",
    "version": 3
   },
   "file_extension": ".py",
   "mimetype": "text/x-python",
   "name": "python",
   "nbconvert_exporter": "python",
   "pygments_lexer": "ipython3",
   "version": "3.13.1"
  }
 },
 "nbformat": 4,
 "nbformat_minor": 4
}
